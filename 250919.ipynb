{
 "cells": [
  {
   "cell_type": "code",
   "execution_count": 1,
   "id": "f102a101",
   "metadata": {},
   "outputs": [
    {
     "name": "stdout",
     "output_type": "stream",
     "text": [
      "안녕\n"
     ]
    }
   ],
   "source": [
    "print(\"안녕\")"
   ]
  },
  {
   "cell_type": "code",
   "execution_count": null,
   "id": "4e765d1e",
   "metadata": {},
   "outputs": [
    {
     "name": "stdout",
     "output_type": "stream",
     "text": [
      "[4, 5, 6]\n"
     ]
    }
   ],
   "source": [
    "class Custonlist:\n",
    "    def __init__(self,values):\n",
    "        self.values = values\n",
    "    \n",
    "    def __add__(self,scalar):\n",
    "        if isinstance(scalar,int):\n",
    "            return Custonlist([ x + scalar for x in self.values])\n",
    "        raise TypeError(\"에러\") \n",
    "\n",
    "    def __radd__(self, scalar):\n",
    "        return self.__plus__(scalar)\n",
    "\n",
    "    def __str__(self):\n",
    "         return str(self.values)\n",
    "\n",
    "my_list = Custonlist([1,2,3])\n",
    "print(my_list+3)\n"
   ]
  },
  {
   "cell_type": "code",
   "execution_count": 10,
   "id": "57abb622",
   "metadata": {},
   "outputs": [
    {
     "name": "stdout",
     "output_type": "stream",
     "text": [
      "admin님, 대시보드에 접근합니다.\n"
     ]
    }
   ],
   "source": [
    "def requires_role(allowed_roles):\n",
    "    def decorator(func):\n",
    "        def wrapper(user_role):\n",
    "            if user_role in allowed_roles:\n",
    "                return func(user_role)\n",
    "            else:\n",
    "                return \"접근 권한이 없습니다.\"\n",
    "        return wrapper\n",
    "    return decorator\n",
    "\n",
    "@requires_role([\"admin\", \"manager\"])\n",
    "def access_dashboard(user_role):\n",
    "    # print() 대신 문자열을 return하도록 수정\n",
    "    return f\"{user_role}님, 대시보드에 접근합니다.\"\n",
    "\n",
    "# access_dashboard가 반환한 문자열을 출력\n",
    "print(access_dashboard(\"admin\"))"
   ]
  },
  {
   "cell_type": "code",
   "execution_count": 11,
   "id": "e2257d8c",
   "metadata": {},
   "outputs": [
    {
     "name": "stdout",
     "output_type": "stream",
     "text": [
      "[INFO] info_data 실행\n",
      "정보출력========================\n",
      "[DEBUG] process_data 실행\n",
      "데이터 처리중=========\n",
      "[WARNING] send_alert 실행\n",
      "경고메시지 전송====\n"
     ]
    }
   ],
   "source": [
    "def log(level=\"INFO\"):\n",
    "    def decorator(func):\n",
    "        def wrapper(*args, **kwargs):\n",
    "            print(f\"[{level}] {func.__name__} 실행\")\n",
    "            return func(*args, **kwargs)\n",
    "        return wrapper\n",
    "    return decorator\n",
    "\n",
    "@log()\n",
    "def info_data():\n",
    "    print(\"정보출력========================\")\n",
    "\n",
    "@log(\"DEBUG\")\n",
    "def process_data():\n",
    "    print(\"데이터 처리중=========\")\n",
    "\n",
    "@log(\"WARNING\")\n",
    "def send_alert():\n",
    "    print(\"경고메시지 전송====\")\n",
    "\n",
    "info_data()\n",
    "process_data()\n",
    "send_alert()"
   ]
  }
 ],
 "metadata": {
  "kernelspec": {
   "display_name": "opencv310 (3.10.0)",
   "language": "python",
   "name": "python3"
  },
  "language_info": {
   "codemirror_mode": {
    "name": "ipython",
    "version": 3
   },
   "file_extension": ".py",
   "mimetype": "text/x-python",
   "name": "python",
   "nbconvert_exporter": "python",
   "pygments_lexer": "ipython3",
   "version": "3.10.0"
  }
 },
 "nbformat": 4,
 "nbformat_minor": 5
}
