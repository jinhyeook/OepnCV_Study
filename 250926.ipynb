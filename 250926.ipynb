{
 "cells": [
  {
   "cell_type": "code",
   "execution_count": null,
   "id": "4a716dd5",
   "metadata": {},
   "outputs": [],
   "source": [
    "# 윈도우 출력 위치 이동\n",
    "import numpy as np\n",
    "import cv2\n",
    "image = np.zeros((200,400), np.uint8)\n",
    "image[:] = 200\n",
    "\n",
    "title1,title2 = \"position1\", \"position2\"\n",
    "cv2.namedWindow(title1,cv2.WINDOW_AUTOSIZE)\n",
    "cv2.namedWindow(title2)\n",
    "cv2.moveWindow(title1,150,150)\n",
    "cv2.moveWindow(title2,400,50)\n",
    "\n",
    "cv2.imshow(title1,image)\n",
    "cv2.imshow(title2,image)\n",
    "cv2.waitKey(0)\n",
    "cv2.destroyAllWindows()"
   ]
  },
  {
   "cell_type": "code",
   "execution_count": 4,
   "id": "df7d2e47",
   "metadata": {},
   "outputs": [],
   "source": [
    "# 윈도우 출력 크기 변경\n",
    "import numpy as np\n",
    "import cv2\n",
    "image = np.zeros((200,400), np.uint8)\n",
    "image.fill(255)\n",
    "\n",
    "title1,title2 = \"Autosize\", \"normal\"\n",
    "cv2.namedWindow(title1,cv2.WINDOW_AUTOSIZE)\n",
    "cv2.namedWindow(title2, cv2.WINDOW_NORMAL)\n",
    "\n",
    "cv2.imshow(title1,image)\n",
    "cv2.imshow(title2,image)\n",
    "cv2.resizeWindow(title1,400,300)\n",
    "cv2.resizeWindow(title2,400,300)\n",
    "cv2.waitKey(0)\n",
    "cv2.destroyAllWindows()"
   ]
  },
  {
   "cell_type": "code",
   "execution_count": null,
   "id": "55ca8557",
   "metadata": {},
   "outputs": [
    {
     "name": "stdout",
     "output_type": "stream",
     "text": [
      "1 : 왼쪽 버튼 누르기\n",
      "1 : 왼쪽 버튼 누르기\n",
      "1 : 왼쪽 버튼 누르기\n",
      "2 : 오른쪽 버튼 누르기\n",
      "5 : 오른쪽 버튼 떼기\n",
      "2 : 오른쪽 버튼 누르기\n",
      "5 : 오른쪽 버튼 떼기\n"
     ]
    }
   ],
   "source": [
    "#마우스 이벤트\n",
    "import numpy as np\n",
    "import cv2\n",
    "\n",
    "def onMouse(event, x, y, flags, param):\n",
    "    if event == cv2.EVENT_LBUTTONDOWN:\n",
    "        print(f\"{event} : 왼쪽 버튼 누르기\")\n",
    "    elif event == cv2.EVENT_RBUTTONDOWN:\n",
    "        print(f\"{event} : 오른쪽 버튼 누르기\")\n",
    "    elif event == cv2.EVENT_RBUTTONUP:\n",
    "        print(f\"{event} : 오른쪽 버튼 떼기\")\n",
    "    elif event == cv2.EVENT_LBUTTONDBLCLK:\n",
    "        print(f\"{event} : 왼쪽 버튼 더블클릭\")\n",
    "\n",
    "image = np.full((200,300), 255, np.uint8)\n",
    "\n",
    "title1, title2 = \"마우스 이벤트1\", \"마우스 이벤트2\"\n",
    "cv2.imshow(title1, image)\n",
    "cv2.imshow(title2, image)\n",
    "\n",
    "\n",
    "cv2.setMouseCallback(title1, onMouse)\n",
    "cv2.waitKey(0)\n",
    "cv2.destroyAllWindows()"
   ]
  },
  {
   "cell_type": "code",
   "execution_count": null,
   "id": "1c7ef7da",
   "metadata": {},
   "outputs": [
    {
     "ename": "error",
     "evalue": "OpenCV(4.12.0) D:\\a\\opencv-python\\opencv-python\\opencv\\modules\\highgui\\src\\window_w32.cpp:1261: error: (-27:Null pointer) NULL window: 'trackbar' in function 'cvDestroyWindow'\n",
     "output_type": "error",
     "traceback": [
      "\u001b[1;31m---------------------------------------------------------------------------\u001b[0m",
      "\u001b[1;31merror\u001b[0m                                     Traceback (most recent call last)",
      "Cell \u001b[1;32mIn[2], line 16\u001b[0m\n\u001b[0;32m     14\u001b[0m cv2\u001b[38;5;241m.\u001b[39mcreateTrackbar(\u001b[38;5;124m\"\u001b[39m\u001b[38;5;124mbrightness\u001b[39m\u001b[38;5;124m\"\u001b[39m, title, image[\u001b[38;5;241m0\u001b[39m][\u001b[38;5;241m0\u001b[39m], \u001b[38;5;241m255\u001b[39m, onChange)\n\u001b[0;32m     15\u001b[0m cv2\u001b[38;5;241m.\u001b[39mwaitKey(\u001b[38;5;241m0\u001b[39m)\n\u001b[1;32m---> 16\u001b[0m \u001b[43mcv2\u001b[49m\u001b[38;5;241;43m.\u001b[39;49m\u001b[43mdestroyWindow\u001b[49m\u001b[43m(\u001b[49m\u001b[43mtitle\u001b[49m\u001b[43m)\u001b[49m\n",
      "\u001b[1;31merror\u001b[0m: OpenCV(4.12.0) D:\\a\\opencv-python\\opencv-python\\opencv\\modules\\highgui\\src\\window_w32.cpp:1261: error: (-27:Null pointer) NULL window: 'trackbar' in function 'cvDestroyWindow'\n"
     ]
    }
   ],
   "source": [
    "# 트랙바\n",
    "import numpy as np\n",
    "import cv2\n",
    "\n",
    "def onChange(value):\n",
    "    global image\n",
    "    image[:] = value\n",
    "    cv2.imshow(title,image)\n",
    "\n",
    "image = np.zeros((300,500), np.uint8)\n",
    "\n",
    "title = \"trackbar\"\n",
    "cv2.imshow(title,image)\n",
    "\n",
    "cv2.createTrackbar(\"brightness\", title, image[0][0], 255, onChange)\n",
    "cv2.waitKey(0)\n",
    "cv2.destroyWindow(title)"
   ]
  }
 ],
 "metadata": {
  "kernelspec": {
   "display_name": "opencv310 (3.10.0)",
   "language": "python",
   "name": "python3"
  },
  "language_info": {
   "codemirror_mode": {
    "name": "ipython",
    "version": 3
   },
   "file_extension": ".py",
   "mimetype": "text/x-python",
   "name": "python",
   "nbconvert_exporter": "python",
   "pygments_lexer": "ipython3",
   "version": "3.10.0"
  }
 },
 "nbformat": 4,
 "nbformat_minor": 5
}
