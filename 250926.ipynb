{
 "cells": [
  {
   "cell_type": "code",
   "execution_count": null,
   "id": "4a716dd5",
   "metadata": {},
   "outputs": [],
   "source": [
    "# 윈도우 출력 위치 이동\n",
    "import numpy as np\n",
    "import cv2\n",
    "image = np.zeros((200,400), np.uint8)\n",
    "image[:] = 200\n",
    "\n",
    "title1,title2 = \"position1\", \"position2\"\n",
    "cv2.namedWindow(title1,cv2.WINDOW_AUTOSIZE)\n",
    "cv2.namedWindow(title2)\n",
    "cv2.moveWindow(title1,150,150)\n",
    "cv2.moveWindow(title2,400,50)\n",
    "\n",
    "cv2.imshow(title1,image)\n",
    "cv2.imshow(title2,image)\n",
    "cv2.waitKey(0)\n",
    "cv2.destroyAllWindows()"
   ]
  },
  {
   "cell_type": "code",
   "execution_count": 4,
   "id": "df7d2e47",
   "metadata": {},
   "outputs": [],
   "source": [
    "# 윈도우 출력 크기 변경\n",
    "import numpy as np\n",
    "import cv2\n",
    "image = np.zeros((200,400), np.uint8)\n",
    "image.fill(255)\n",
    "\n",
    "title1,title2 = \"Autosize\", \"normal\"\n",
    "cv2.namedWindow(title1,cv2.WINDOW_AUTOSIZE)\n",
    "cv2.namedWindow(title2, cv2.WINDOW_NORMAL)\n",
    "\n",
    "cv2.imshow(title1,image)\n",
    "cv2.imshow(title2,image)\n",
    "cv2.resizeWindow(title1,400,300)\n",
    "cv2.resizeWindow(title2,400,300)\n",
    "cv2.waitKey(0)\n",
    "cv2.destroyAllWindows()"
   ]
  }
 ],
 "metadata": {
  "kernelspec": {
   "display_name": "opencv310 (3.10.0)",
   "language": "python",
   "name": "python3"
  },
  "language_info": {
   "codemirror_mode": {
    "name": "ipython",
    "version": 3
   },
   "file_extension": ".py",
   "mimetype": "text/x-python",
   "name": "python",
   "nbconvert_exporter": "python",
   "pygments_lexer": "ipython3",
   "version": "3.10.0"
  }
 },
 "nbformat": 4,
 "nbformat_minor": 5
}
