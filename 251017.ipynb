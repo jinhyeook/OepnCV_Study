{
 "cells": [
  {
   "cell_type": "code",
   "execution_count": null,
   "id": "03592e57",
   "metadata": {},
   "outputs": [],
   "source": [
    "import cv2\n",
    "\n",
    "image = cv2.imread(r\"img/img.jpg\", cv2.IMREAD_COLOR)\n",
    "if image is None:\n",
    "    raise Exception(\"영상파일 읽기 오류\")\n",
    "\n",
    "x_axis = cv2.flip(image,0)\n",
    "y_axis = cv2.flip(image,1)\n",
    "xy_axis = cv2.flip(image,-1)\n",
    "rep_image = cv2.repeat(image,1,2)\n",
    "trans_image = cv2.transpose(image)\n",
    "\n",
    "titles = ['image','x_axis', 'y_axis', 'xy_axis', 'rep_image', 'trans_image']\n",
    "for title in titles:\n",
    "    cv2.imshow(title, eval(title))\n",
    "cv2.waitKey(0)"
   ]
  }
 ],
 "metadata": {
  "kernelspec": {
   "display_name": "opencv310 (3.10.0)",
   "language": "python",
   "name": "python3"
  },
  "language_info": {
   "codemirror_mode": {
    "name": "ipython",
    "version": 3
   },
   "file_extension": ".py",
   "mimetype": "text/x-python",
   "name": "python",
   "nbconvert_exporter": "python",
   "pygments_lexer": "ipython3",
   "version": "3.10.0"
  }
 },
 "nbformat": 4,
 "nbformat_minor": 5
}
