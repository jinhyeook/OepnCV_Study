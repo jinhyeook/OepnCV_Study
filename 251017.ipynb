{
 "cells": [
  {
   "cell_type": "code",
   "execution_count": null,
   "id": "03592e57",
   "metadata": {},
   "outputs": [],
   "source": [
    "import cv2\n",
    "\n",
    "image = cv2.imread(r\"img/img.jpg\", cv2.IMREAD_COLOR)\n",
    "if image is None:\n",
    "    raise Exception(\"영상파일 읽기 오류\")\n",
    "\n",
    "x_axis = cv2.flip(image,0)\n",
    "y_axis = cv2.flip(image,1)\n",
    "xy_axis = cv2.flip(image,-1)\n",
    "rep_image = cv2.repeat(image,1,2)\n",
    "trans_image = cv2.transpose(image)\n",
    "\n",
    "titles = ['image','x_axis', 'y_axis', 'xy_axis', 'rep_image', 'trans_image']\n",
    "for title in titles:\n",
    "    cv2.imshow(title, eval(title))\n",
    "cv2.waitKey(0)"
   ]
  },
  {
   "cell_type": "code",
   "execution_count": 1,
   "id": "7ca055e5",
   "metadata": {},
   "outputs": [
    {
     "name": "stdout",
     "output_type": "stream",
     "text": [
      "split_bgr 행렬 형태 : (3, 2, 4)\n",
      "merge_bgr 행렬 형태 : (2, 4, 3)\n",
      "[ch0] = [[10 10 10 10]\n",
      " [10 10 10 10]]\n",
      "[ch1] = [[20 20 20 20]\n",
      " [20 20 20 20]]\n",
      "[ch2] = [[30 30 30 30]\n",
      " [30 30 30 30]]\n",
      "[merge_bgr] = [[[10 20 30]\n",
      "  [10 20 30]\n",
      "  [10 20 30]\n",
      "  [10 20 30]]\n",
      "\n",
      " [[10 20 30]\n",
      "  [10 20 30]\n",
      "  [10 20 30]\n",
      "  [10 20 30]]]\n",
      "[split_bgr[0]] = [[10 10 10 10]\n",
      " [10 10 10 10]]\n",
      "[split_bgr[1]] = [[20 20 20 20]\n",
      " [20 20 20 20]]\n",
      "[split_bgr[2]] = [[30 30 30 30]\n",
      " [30 30 30 30]]\n"
     ]
    }
   ],
   "source": [
    "import numpy as np\n",
    "import cv2\n",
    "\n",
    "ch0 = np.zeros((2,4), np.uint8)+10\n",
    "ch1 = np.ones((2,4), np.uint8)*20\n",
    "ch2 = np.full((2,4), 30, np.uint8)\n",
    "\n",
    "list_bgr = [ch0, ch1, ch2]\n",
    "merge_bgr = cv2.merge(list_bgr)\n",
    "split_bgr = cv2.split(merge_bgr)\n",
    "\n",
    "print(f\"split_bgr 행렬 형태 : {np.array(split_bgr).shape}\")\n",
    "print(f\"merge_bgr 행렬 형태 : {merge_bgr.shape}\")\n",
    "print(f\"[ch0] = {ch0}\")\n",
    "print(f\"[ch1] = {ch1}\")\n",
    "print(f\"[ch2] = {ch2}\")\n",
    "print(f\"[merge_bgr] = {merge_bgr}\")\n",
    "\n",
    "print(f\"[split_bgr[0]] = {split_bgr[0]}\")\n",
    "print(f\"[split_bgr[1]] = {split_bgr[1]}\")\n",
    "print(f\"[split_bgr[2]] = {split_bgr[2]}\")\n",
    "\n"
   ]
  },
  {
   "cell_type": "code",
   "execution_count": 3,
   "id": "f07a24ae",
   "metadata": {},
   "outputs": [
    {
     "name": "stdout",
     "output_type": "stream",
     "text": [
      "[m1] = [[10. 10. 10. 10. 10. 10.]\n",
      " [10. 10. 10. 10. 10. 10.]\n",
      " [10. 10. 10. 10. 10. 10.]]\n",
      "[m2] = [[50. 50. 50. 50. 50. 50.]\n",
      " [50. 50. 50. 50. 50. 50.]\n",
      " [50. 50. 50. 50. 50. 50.]]\n",
      "[m_mask] = [[0 0 0 1 1 1]\n",
      " [0 0 0 1 1 1]\n",
      " [0 0 0 1 1 1]]\n",
      "[m_add1] = [[60 60 60 60 60 60]\n",
      " [60 60 60 60 60 60]\n",
      " [60 60 60 60 60 60]]\n",
      "[m_add2] = [[ 0  0  0 60 60 60]\n",
      " [ 0  0  0 60 60 60]\n",
      " [ 0  0  0 60 60 60]]\n",
      "[m_div1] = [[0 0 0 0 0 0]\n",
      " [0 0 0 0 0 0]\n",
      " [0 0 0 0 0 0]]\n",
      "[m_div2] = [[0.2 0.2 0.2 0.2 0.2 0.2]\n",
      " [0.2 0.2 0.2 0.2 0.2 0.2]\n",
      " [0.2 0.2 0.2 0.2 0.2 0.2]]\n"
     ]
    }
   ],
   "source": [
    "import numpy as np, cv2\n",
    "\n",
    "m1 = np.full((3,6), 10, np.uint8)\n",
    "m2 = np.full((3,6), 50, np.uint8)\n",
    "m_mask = np.zeros(m1.shape, np.uint8)\n",
    "m_mask[:,3:] = 1\n",
    "\n",
    "m_add1 = cv2.add(m1,m2)\n",
    "m_add2 = cv2.add(m1,m2, mask=m_mask)\n",
    "\n",
    "m_div1 = cv2.divide(m1,m2)\n",
    "m1 = m1.astype(np.float32)\n",
    "m2 = np.float32(m2)\n",
    "m_div2 = cv2.divide(m1,m2)\n",
    "\n",
    "titles = ['m1','m2', 'm_mask', 'm_add1', 'm_add2', 'm_div1', 'm_div2']\n",
    "for title in titles:\n",
    "    print(f\"[{title}] = {eval(title)}\")\n"
   ]
  },
  {
   "cell_type": "code",
   "execution_count": null,
   "id": "946dfbfc",
   "metadata": {},
   "outputs": [],
   "source": []
  }
 ],
 "metadata": {
  "kernelspec": {
   "display_name": "opencv310 (3.10.0)",
   "language": "python",
   "name": "python3"
  },
  "language_info": {
   "codemirror_mode": {
    "name": "ipython",
    "version": 3
   },
   "file_extension": ".py",
   "mimetype": "text/x-python",
   "name": "python",
   "nbconvert_exporter": "python",
   "pygments_lexer": "ipython3",
   "version": "3.10.0"
  }
 },
 "nbformat": 4,
 "nbformat_minor": 5
}
