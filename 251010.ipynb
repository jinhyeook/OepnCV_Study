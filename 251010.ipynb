{
 "cells": [
  {
   "cell_type": "code",
   "execution_count": 4,
   "id": "8a0acb3a",
   "metadata": {},
   "outputs": [
    {
     "data": {
      "text/plain": [
       "-1"
      ]
     },
     "execution_count": 4,
     "metadata": {},
     "output_type": "execute_result"
    }
   ],
   "source": [
    "import numpy as np\n",
    "import cv2\n",
    "\n",
    "olive, violet, brown = (128,128,0),(221,160,221),(42,42,165)\n",
    "pt1, pt2 = (50,230),(50,310)\n",
    "\n",
    "image = np.zeros((350,500,3), np.uint8)\n",
    "image.fill(255)\n",
    "\n",
    "cv2.putText(image, 'SIMPLEX', (50,50), cv2.FONT_HERSHEY_SIMPLEX, 2, brown)\n",
    "fontFace = cv2.FONT_HERSHEY_PLAIN | cv2.FONT_ITALIC\n",
    "cv2.putText(image, 'ITALIC', pt2, fontFace, 4, violet)\n",
    "\n",
    "cv2.imshow('Put Text', image)\n",
    "cv2.waitKey(0)\n"
   ]
  },
  {
   "cell_type": "code",
   "execution_count": 5,
   "id": "3177d52b",
   "metadata": {},
   "outputs": [
    {
     "data": {
      "text/plain": [
       "-1"
      ]
     },
     "execution_count": 5,
     "metadata": {},
     "output_type": "execute_result"
    }
   ],
   "source": [
    "import numpy as np\n",
    "import cv2\n",
    "\n",
    "orange, blue, cyan = (0,165,255), (255,0,0), (255,255,0)\n",
    "white, black = (255,255,255), (0,0,0)\n",
    "\n",
    "image = np.full((300,500,3), white, np.uint8)\n",
    "\n",
    "center = (image.shape[1]//2, image.shape[0]//2)\n",
    "pt1,pt2 = (300,50), (100,200)\n",
    "shade = (pt2[0]+2, pt2[1]+2)\n",
    "\n",
    "cv2.circle(image, center, 100, blue)\n",
    "\n",
    "font = cv2.FONT_HERSHEY_COMPLEX\n",
    "cv2.putText(image, 'center_blue', center, font, 1.0, blue)\n",
    "cv2.putText(image, 'pt2_cyan', shade, font, 1.2, black, 2)\n",
    "\n",
    "cv2.imshow(\"Draw circles\", image)\n",
    "cv2.waitKey(0)\n"
   ]
  },
  {
   "cell_type": "code",
   "execution_count": 8,
   "id": "38331a4c",
   "metadata": {},
   "outputs": [
    {
     "data": {
      "text/plain": [
       "-1"
      ]
     },
     "execution_count": 8,
     "metadata": {},
     "output_type": "execute_result"
    }
   ],
   "source": [
    "import numpy as np\n",
    "import cv2\n",
    "\n",
    "orange, blue, cyan = (0,165,255), (255,0,0), (255,255,0)\n",
    "white, black = (255,255,255), (0,0,0)\n",
    "\n",
    "image = np.full((300,700,3), white, np.uint8)\n",
    "\n",
    "pt1,pt2 = (180,150), (550,150)\n",
    "size = (120,60)\n",
    "\n",
    "cv2.circle(image, pt1, 1,0,2)\n",
    "cv2.circle(image, pt2, 1,0,2)\n",
    "\n",
    "cv2.ellipse(image, pt1,size,0,0,360,blue,1)\n",
    "cv2.ellipse(image, pt2,size,90,0,360,blue,1)\n",
    "\n",
    "cv2.imshow(\"문자열\", image)\n",
    "cv2.waitKey(0)\n"
   ]
  },
  {
   "cell_type": "code",
   "execution_count": null,
   "id": "daf8f396",
   "metadata": {},
   "outputs": [],
   "source": [
    "import cv2\n",
    "\n",
    "def print_matInfo(name, iamge):\n",
    "    if image.dtype == 'unit8' : \n",
    "        mat_type = 'CV_8U'\n",
    "    elif image.dtype == 'int8':\n",
    "        mat_type = 'CV_8S'\n",
    "    elif image.dtype == 'uint16':\n",
    "        mat_type ='CV_16U'\n",
    "    elif image.dtype == 'int16':\n",
    "        mat_type = 'CV_16S'\n",
    "    elif image.dtype == 'float32':\n",
    "        mat_type = 'CV_32F'\n",
    "    elif image.dtype == 'float64':\n",
    "        mat_type = 'CV_64F'\n",
    "    nchannel = 3 if image.ndim == 3 else 1\n",
    "    \n",
    "    print(f\"{name} : depth({image.dtype}), channels({nchannel}) -> mat_type({mat_type, nchannel})\")\n",
    "    # ..."
   ]
  },
  {
   "cell_type": "code",
   "execution_count": 9,
   "id": "388f4d07",
   "metadata": {},
   "outputs": [
    {
     "name": "stdout",
     "output_type": "stream",
     "text": [
      "너비 : 640.0\n",
      "높이 : 480.0\n",
      "노출 : -6.0\n",
      "밝기 : 0.0\n"
     ]
    },
    {
     "ename": "KeyboardInterrupt",
     "evalue": "",
     "output_type": "error",
     "traceback": [
      "\u001b[1;31m---------------------------------------------------------------------------\u001b[0m",
      "\u001b[1;31mKeyboardInterrupt\u001b[0m                         Traceback (most recent call last)",
      "Cell \u001b[1;32mIn[9], line 23\u001b[0m\n\u001b[0;32m     21\u001b[0m \u001b[38;5;28;01mif\u001b[39;00m \u001b[38;5;129;01mnot\u001b[39;00m ret:\n\u001b[0;32m     22\u001b[0m     \u001b[38;5;28;01mbreak\u001b[39;00m\n\u001b[1;32m---> 23\u001b[0m \u001b[38;5;28;01mif\u001b[39;00m \u001b[43mcv2\u001b[49m\u001b[38;5;241;43m.\u001b[39;49m\u001b[43mwaitKey\u001b[49m\u001b[43m(\u001b[49m\u001b[38;5;241;43m30\u001b[39;49m\u001b[43m)\u001b[49m\u001b[38;5;241m>\u001b[39m\u001b[38;5;241m=\u001b[39m\u001b[38;5;241m0\u001b[39m:\n\u001b[0;32m     24\u001b[0m     \u001b[38;5;28;01mbreak\u001b[39;00m\n\u001b[0;32m     26\u001b[0m exposure \u001b[38;5;241m=\u001b[39m capture\u001b[38;5;241m.\u001b[39mget(cv2\u001b[38;5;241m.\u001b[39mCAP_PROP_EXPOSURE)\n",
      "\u001b[1;31mKeyboardInterrupt\u001b[0m: "
     ]
    }
   ],
   "source": [
    "import cv2\n",
    "\n",
    "def put_string(frame, text, pt, value, color=(120,200,90)):\n",
    "    text += str(value)\n",
    "    shade = (pt[0]+2, pt[1]+2)\n",
    "    font = cv2.FONT_HERSHEY_SIMPLEX\n",
    "    cv2.putText(frame, text, shade, font, 0.7, (0,0,0), 2)\n",
    "    cv2.putText(frame, text, pt, font, 0.7, color, 2)\n",
    "\n",
    "capture = cv2.VideoCapture(0)\n",
    "if capture.isOpened() == False:\n",
    "    raise Exception(\"카메라 연결 실패\")\n",
    "\n",
    "print(f\"너비 : {capture.get(cv2.CAP_PROP_FRAME_WIDTH)}\")\n",
    "print(f\"높이 : {capture.get(cv2.CAP_PROP_FRAME_HEIGHT)}\")\n",
    "print(f\"노출 : {capture.get(cv2.CAP_PROP_EXPOSURE)}\")\n",
    "print(f\"밝기 : {capture.get(cv2.CAP_PROP_BRIGHTNESS)}\")\n",
    "\n",
    "while True:\n",
    "    ret,frame = capture.read()\n",
    "    if not ret:\n",
    "        break\n",
    "    if cv2.waitKey(30)>=0:\n",
    "        break\n",
    "\n",
    "    exposure = capture.get(cv2.CAP_PROP_EXPOSURE)\n",
    "    put_string(frame, 'EXPOS:', (10,40), exposure)\n",
    "    title = 'VIEW FRAME FROM CAMERA'\n",
    "    cv2.imshow(title, frame)\n",
    "\n",
    "capture.release()\n",
    "\n",
    "\n"
   ]
  },
  {
   "cell_type": "code",
   "execution_count": null,
   "id": "69827dcc",
   "metadata": {},
   "outputs": [],
   "source": [
    "import cv2\n",
    "\n",
    "capture = cv2.VideoCapture(0)\n",
    "if capture.isOpened() == False:\n",
    "    raise Exception(\"카메라 연결 실패\")\n",
    "\n",
    "fps = 29.97\n",
    "delay = round(1000/fps)\n",
    "size = (640,360)\n",
    "fourcc = cv2.VideoWriter_fourcc(*'DX50')\n",
    "\n",
    "\n"
   ]
  }
 ],
 "metadata": {
  "kernelspec": {
   "display_name": "opencv310 (3.10.0)",
   "language": "python",
   "name": "python3"
  },
  "language_info": {
   "codemirror_mode": {
    "name": "ipython",
    "version": 3
   },
   "file_extension": ".py",
   "mimetype": "text/x-python",
   "name": "python",
   "nbconvert_exporter": "python",
   "pygments_lexer": "ipython3",
   "version": "3.10.0"
  }
 },
 "nbformat": 4,
 "nbformat_minor": 5
}
